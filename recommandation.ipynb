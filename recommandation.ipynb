{
 "cells": [
  {
   "cell_type": "code",
   "execution_count": 2,
   "metadata": {},
   "outputs": [],
   "source": [
    "import pyspark\n",
    "from pyspark import SparkContext\n",
    "from pyspark.sql import SparkSession\n",
    "\n",
    "SparkContext.setSystemProperty('spark.executor.memory', '8g')\n",
    "SparkContext.setSystemProperty('spark.driver.memory', '45G')\n",
    "\n",
    "sc = SparkContext.getOrCreate()\n",
    "spark = SparkSession.builder.appName(\"Python Spark\").getOrCreate()"
   ]
  },
  {
   "cell_type": "code",
   "execution_count": 7,
   "metadata": {},
   "outputs": [],
   "source": [
    "data = spark.read.json(\"data/hiphop.json\")"
   ]
  },
  {
   "cell_type": "code",
   "execution_count": 8,
   "metadata": {},
   "outputs": [
    {
     "name": "stdout",
     "output_type": "stream",
     "text": [
      "root\n",
      " |-- acousticness: double (nullable = true)\n",
      " |-- analysis_url: string (nullable = true)\n",
      " |-- danceability: double (nullable = true)\n",
      " |-- duration_ms: long (nullable = true)\n",
      " |-- energy: double (nullable = true)\n",
      " |-- id: string (nullable = true)\n",
      " |-- instrumentalness: double (nullable = true)\n",
      " |-- key: long (nullable = true)\n",
      " |-- liveness: double (nullable = true)\n",
      " |-- loudness: double (nullable = true)\n",
      " |-- mode: long (nullable = true)\n",
      " |-- speechiness: double (nullable = true)\n",
      " |-- tempo: double (nullable = true)\n",
      " |-- time_signature: long (nullable = true)\n",
      " |-- track_href: string (nullable = true)\n",
      " |-- type: string (nullable = true)\n",
      " |-- uri: string (nullable = true)\n",
      " |-- valence: double (nullable = true)\n",
      "\n"
     ]
    }
   ],
   "source": [
    "data.printSchema()"
   ]
  },
  {
   "cell_type": "code",
   "execution_count": null,
   "metadata": {},
   "outputs": [],
   "source": [
    "data"
   ]
  },
  {
   "cell_type": "code",
   "execution_count": 9,
   "metadata": {},
   "outputs": [
    {
     "name": "stdout",
     "output_type": "stream",
     "text": [
      "+------------+--------------------+------------+-----------+------+--------------------+----------------+\n",
      "|acousticness|        analysis_url|danceability|duration_ms|energy|                  id|instrumentalness|\n",
      "+------------+--------------------+------------+-----------+------+--------------------+----------------+\n",
      "|      0.0536|https://api.spoti...|        0.91|     165067| 0.585|4KDNRh9Oor80z3XIx...|             0.0|\n",
      "|       0.024|https://api.spoti...|       0.798|     138587| 0.574|4eL3XeuGaEoVT8ttD...|             0.0|\n",
      "|     0.00311|https://api.spoti...|       0.723|     123077| 0.516|52nTQQahs46s1iHFQ...|         1.26E-6|\n",
      "|      0.0635|https://api.spoti...|       0.849|     242966| 0.424|2BcMwX1MPV6ZHP4tU...|             0.0|\n",
      "|      0.0252|https://api.spoti...|         0.8|     183514| 0.541|25r6MZ4Gtd76l43qn...|             0.0|\n",
      "|      0.0698|https://api.spoti...|       0.707|     220413| 0.442|0uqsdBw9KvD8jSWmf...|             0.0|\n",
      "|     0.00575|https://api.spoti...|       0.711|     252070| 0.611|7Bpx2vsWfQFBACRz4...|             0.0|\n",
      "|      0.0115|https://api.spoti...|       0.841|     143480| 0.732|1tkipCYkIgti8f1tq...|         2.18E-5|\n",
      "|      0.0884|https://api.spoti...|       0.718|     154433| 0.628|6pmNoWKk0r6zfIjWn...|             0.0|\n",
      "|      0.0503|https://api.spoti...|       0.666|     291175| 0.465|40iJIUlhi6renaREY...|             0.0|\n",
      "+------------+--------------------+------------+-----------+------+--------------------+----------------+\n",
      "only showing top 10 rows\n",
      "\n"
     ]
    }
   ],
   "source": [
    "data.select(data.columns[:7]).show(10)"
   ]
  },
  {
   "cell_type": "markdown",
   "metadata": {},
   "source": [
    "## Concatenation des records Spotify"
   ]
  },
  {
   "cell_type": "code",
   "execution_count": 21,
   "metadata": {},
   "outputs": [],
   "source": [
    "import os\n",
    "\n",
    "df = None\n",
    "for f in os.listdir(\"data\"):\n",
    "    tmp = spark.read.json(os.getcwd() + \"/data/\" + f)\n",
    "    if len(tmp.columns) != 0:\n",
    "        df = df.union(tmp) if df is not None else tmp"
   ]
  },
  {
   "cell_type": "code",
   "execution_count": 24,
   "metadata": {},
   "outputs": [
    {
     "name": "stdout",
     "output_type": "stream",
     "text": [
      "(63081, 18)\n"
     ]
    }
   ],
   "source": [
    "print((df.count(), len(df.columns)))"
   ]
  },
  {
   "cell_type": "code",
   "execution_count": 23,
   "metadata": {},
   "outputs": [
    {
     "data": {
      "text/plain": [
       "DataFrame[acousticness: double, analysis_url: string, danceability: double, duration_ms: bigint, energy: double, id: string, instrumentalness: double, key: bigint, liveness: double, loudness: double, mode: bigint, speechiness: double, tempo: double, time_signature: bigint, track_href: string, type: string, uri: string, valence: double]"
      ]
     },
     "execution_count": 23,
     "metadata": {},
     "output_type": "execute_result"
    }
   ],
   "source": [
    "df.dropDuplicates()"
   ]
  },
  {
   "cell_type": "code",
   "execution_count": 26,
   "metadata": {},
   "outputs": [
    {
     "name": "stdout",
     "output_type": "stream",
     "text": [
      "root\n",
      " |-- acousticness: double (nullable = true)\n",
      " |-- analysis_url: string (nullable = true)\n",
      " |-- danceability: double (nullable = true)\n",
      " |-- duration_ms: long (nullable = true)\n",
      " |-- energy: double (nullable = true)\n",
      " |-- id: string (nullable = true)\n",
      " |-- instrumentalness: double (nullable = true)\n",
      " |-- key: long (nullable = true)\n",
      " |-- liveness: double (nullable = true)\n",
      " |-- loudness: double (nullable = true)\n",
      " |-- mode: long (nullable = true)\n",
      " |-- speechiness: double (nullable = true)\n",
      " |-- tempo: double (nullable = true)\n",
      " |-- time_signature: long (nullable = true)\n",
      " |-- track_href: string (nullable = true)\n",
      " |-- type: string (nullable = true)\n",
      " |-- uri: string (nullable = true)\n",
      " |-- valence: double (nullable = true)\n",
      "\n"
     ]
    }
   ],
   "source": [
    "df.printSchema()"
   ]
  },
  {
   "cell_type": "code",
   "execution_count": 53,
   "metadata": {},
   "outputs": [],
   "source": [
    "col2ban = ['track_href', 'analysis_url', 'type', 'uri']\n",
    "data = df.select([col for col in df.columns if col not in col2ban])\n",
    "# reorder\n",
    "data = data.select(['id'] + [col for col in data.columns if col != 'id'])"
   ]
  },
  {
   "cell_type": "code",
   "execution_count": 54,
   "metadata": {},
   "outputs": [
    {
     "name": "stdout",
     "output_type": "stream",
     "text": [
      "root\n",
      " |-- id: string (nullable = true)\n",
      " |-- acousticness: double (nullable = true)\n",
      " |-- danceability: double (nullable = true)\n",
      " |-- duration_ms: long (nullable = true)\n",
      " |-- energy: double (nullable = true)\n",
      " |-- instrumentalness: double (nullable = true)\n",
      " |-- key: long (nullable = true)\n",
      " |-- liveness: double (nullable = true)\n",
      " |-- loudness: double (nullable = true)\n",
      " |-- mode: long (nullable = true)\n",
      " |-- speechiness: double (nullable = true)\n",
      " |-- tempo: double (nullable = true)\n",
      " |-- time_signature: long (nullable = true)\n",
      " |-- valence: double (nullable = true)\n",
      "\n"
     ]
    }
   ],
   "source": [
    "data.printSchema()"
   ]
  },
  {
   "cell_type": "code",
   "execution_count": 56,
   "metadata": {},
   "outputs": [
    {
     "name": "stdout",
     "output_type": "stream",
     "text": [
      "+--------------------+------------+------------+-----------+-------+----------------+---+--------+\n",
      "|                  id|acousticness|danceability|duration_ms| energy|instrumentalness|key|liveness|\n",
      "+--------------------+------------+------------+-----------+-------+----------------+---+--------+\n",
      "|1vgSaC0BPlL6LEm4X...|       0.932|       0.257|     266200| 0.0906|           0.985|  8|  0.0786|\n",
      "|2Bc4llhjJBW77I552...|       0.911|       0.167|     464293|  0.071|           0.855|  6|   0.107|\n",
      "|4TrCvd1PrqI14lZb7...|       0.955|      0.0629|     272787| 0.0718|           0.907|  8|  0.0906|\n",
      "|1i8MaQec4fQXj1enX...|       0.528|       0.196|     208040| 0.0236|          0.0845|  5|   0.289|\n",
      "|0DsKfyDPVSfJPWb3J...|       0.953|       0.161|     717720|  0.101|           0.967|  5|  0.0651|\n",
      "|16fZFSlV2VIDcY77m...|       0.947|       0.308|     290893|  0.251|           0.924|  2|  0.0707|\n",
      "|2RWxRXIiwbcKEaplX...|       0.759|      0.0931|     392293|  0.273|           0.836|  9|  0.0888|\n",
      "|3Q6okpLoq2ZhOzZfB...|       0.977|      0.0631|     601600|0.00256|            0.84|  7|   0.115|\n",
      "|5HVHnoZniuyJeO9j3...|       0.988|       0.148|     328493| 0.0329|           0.973|  8|    0.11|\n",
      "|3pcrD4NBBBQGMJATR...|        0.82|       0.179|     151876|  0.249|           0.929|  0|  0.0803|\n",
      "|7G0celL82dCIDYjUx...|        0.94|       0.492|     184587| 0.0696|           0.972|  6|  0.0635|\n",
      "|3GgSZWI0IFZeOGLTM...|       0.945|       0.204|     805173|  0.354|           0.876|  3|   0.116|\n",
      "|2CxBaNFCjYVi0Iv2P...|       0.906|       0.397|     563428| 0.0536|           0.924|  0|  0.0903|\n",
      "|0cSdWJzO18liElNMC...|       0.937|       0.242|     210716|   0.18|           0.937|  4|  0.0986|\n",
      "|5JTRbD6x9nnYh3mrr...|       0.837|       0.134|     421463| 0.0529|           0.878|  2|   0.112|\n",
      "|3xLBY0NMWZqdLCYbP...|       0.943|        0.18|     509531|9.85E-4|           0.922|  9|  0.0789|\n",
      "|6DMhXt5HUOOEW98tA...|       0.921|       0.129|     447750| 0.0707|           0.943|  6|  0.0976|\n",
      "|5DiwyUEb7jG8iVOaH...|       0.972|      0.0673|     193280|  0.059|            0.93|  8|  0.0849|\n",
      "|6XtiBZ34C9R5qvG9V...|       0.935|       0.163|     513187| 0.0588|           0.961|  8|   0.098|\n",
      "|5ftgOffbWhT3hYtQX...|       0.993|       0.175|     390720|0.00134|           0.875|  8|   0.101|\n",
      "+--------------------+------------+------------+-----------+-------+----------------+---+--------+\n",
      "only showing top 20 rows\n",
      "\n"
     ]
    }
   ],
   "source": [
    "data.select(data.columns[:8]).show()"
   ]
  },
  {
   "cell_type": "code",
   "execution_count": null,
   "metadata": {},
   "outputs": [],
   "source": []
  }
 ],
 "metadata": {
  "interpreter": {
   "hash": "006b2a4c59105e151f59d7a783e9669671dc3b315a85df72952575de8c58cde6"
  },
  "kernelspec": {
   "display_name": "Python 3.7.10 64-bit ('base': conda)",
   "name": "python3"
  },
  "language_info": {
   "codemirror_mode": {
    "name": "ipython",
    "version": 3
   },
   "file_extension": ".py",
   "mimetype": "text/x-python",
   "name": "python",
   "nbconvert_exporter": "python",
   "pygments_lexer": "ipython3",
   "version": "3.7.10"
  }
 },
 "nbformat": 4,
 "nbformat_minor": 2
}
